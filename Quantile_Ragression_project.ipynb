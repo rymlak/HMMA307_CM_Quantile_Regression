{
 "cells": [
  {
   "cell_type": "markdown",
   "metadata": {},
   "source": [
    "# Quantile Regression \n",
    ">__Auteurs__: Yani Bouaffad, Ryma Lakehal, Loic Sauton"
   ]
  },
  {
   "cell_type": "code",
   "execution_count": null,
   "metadata": {},
   "outputs": [],
   "source": [
    "import numpy as np\n",
    "import pandas as pd\n",
    "import cvxpy as cvx\n",
    "import matplotlib.pyplot as plt\n",
    "from download import download\n",
    "import statsmodels.formula.api as ols\n",
    "import time\n",
    "import statsmodels.api as sm\n",
    "from pathlib import Path\n",
    "import pandas as pd\n",
    "from sklearn.linear_model import RidgeCV, Ridge\n",
    "import ipywidgets as ip\n",
    "%matplotlib inline\n",
    "import seaborn as sns\n",
    "sns.set(context='talk', palette='colorblind', style='darkgrid')\n"
   ]
  },
  {
   "cell_type": "markdown",
   "metadata": {},
   "source": [
    "In this part, we were inspired by Joly Julien , Mohamed Sahardid et Anas El Benna's homework to import the dataset \"Mesure journalière Région Occitanie Polluants Principaux\" and also for camparing what we will foundwith thiers results. "
   ]
  },
  {
   "cell_type": "code",
   "execution_count": null,
   "metadata": {},
   "outputs": [],
   "source": [
    "url = \"http://josephsalmon.eu/enseignement/datasets/Mesure_journaliere_Region_Occitanie_Polluants_Principaux.csv\"\n",
    "path_target = \"datasets/Mesure_journaliere_Region_Occitanie_Polluants_Principaux.csv\"\n",
    "download(url, path_target, replace=True)\n",
    "occ_raw = pd.read_csv(path_target)\n",
    "occ_raw['date'] = pd.to_datetime(occ_raw['date_debut']).dt.to_period('M')\n",
    "\n",
    "occ = occ_raw.dropna()\n",
    "occ.describe()"
   ]
  },
  {
   "cell_type": "code",
   "execution_count": null,
   "metadata": {},
   "outputs": [],
   "source": [
    "occ[\"nom_com\"].value_counts()"
   ]
  },
  {
   "cell_type": "markdown",
   "metadata": {},
   "source": [
    "### liste de ville"
   ]
  },
  {
   "cell_type": "code",
   "execution_count": null,
   "metadata": {},
   "outputs": [],
   "source": [
    "ville = 'MONTPELLIER', 'TOULOUSE', 'AGDE'\n",
    "\n",
    "df = occ[occ['nom_com'].isin(ville)]\n",
    "df = df[df['polluant'] == 'O3']\n",
    "\n",
    "df.date.unique()\n",
    "\n",
    "df = df[df.date == '2018-07']\n",
    "df = df[['nom_com', 'valeur_originale']]"
   ]
  },
  {
   "cell_type": "markdown",
   "metadata": {},
   "source": [
    "vecteurs les relevés d'ozone des villes choisies"
   ]
  },
  {
   "cell_type": "code",
   "execution_count": null,
   "metadata": {},
   "outputs": [],
   "source": [
    "valeur_o3 = []\n",
    "len_villes = []\n",
    "\n",
    "for i in range(len(ville)):\n",
    "\n",
    "    o3_i = df[df['nom_com'] == ville[i]].values[:, 1]\n",
    "\n",
    "    # valeurs de O3 des villes choisies\n",
    "    valeur_o3 = np.append(valeur_o3, o3_i)\n",
    "\n",
    "    # Nombre d'observations de chaque ville\n",
    "    len_villes = np.append(len_villes, o3_i.shape)\n",
    "\n",
    "X = np.zeros((int(np.sum(len_villes)), len(ville)))\n",
    "\n",
    "for i in range(len(ville)):\n",
    "    X[int(np.sum(len_villes[0:i])):int(np.sum(len_villes[0:i + 1])\n",
    "                                       ), i] = np.ones(\n",
    "                                           int(np.sum(len_villes[i])))"
   ]
  },
  {
   "cell_type": "markdown",
   "metadata": {},
   "source": [
    "# Quantile regression"
   ]
  },
  {
   "cell_type": "markdown",
   "metadata": {},
   "source": [
    "Traditionally, the linear regression model for calculating the mean takes the form\n",
    "$$y_i=\\beta_0 + \\beta_1 x_{i1} + \\dots + \\beta_p x_{ip} \\ \\ i=1, \\dots , n$$\n",
    "where p is equal to the number of features in the equation and n is the number of data points. The best linear regression line is found by minimizing the mean square error, which is found with the equation\n",
    "$$ \n",
    "$$\n",
    "\n",
    "blabla je finirai plus tard "
   ]
  },
  {
   "cell_type": "markdown",
   "metadata": {},
   "source": [
    "## implementing quantile regression using CVXPY package"
   ]
  },
  {
   "cell_type": "markdown",
   "metadata": {},
   "source": [
    "CVXPY is a Python-embedded modeling language for convex optimization problems. It allows us to express our problem in a natural way that follows the math, rather than in the restrictive standard form required by solvers."
   ]
  },
  {
   "cell_type": "code",
   "execution_count": null,
   "metadata": {},
   "outputs": [],
   "source": [
    "alphas = np.linspace(0.0, 1, 11)"
   ]
  },
  {
   "cell_type": "code",
   "execution_count": null,
   "metadata": {},
   "outputs": [],
   "source": [
    "Y = valeur_o3\n",
    "X = X\n",
    "\n",
    "fit = cvx.Variable(X.shape[1])\n",
    "alpha = cvx.Parameter(value=0.5)\n",
    "\n",
    "f = cvx.sum_entries(0.5 * cvx.abs((Y - (fit.T * X))) + (alpha - 0.5) * (Y - (fit.T * X)))\n",
    "\n",
    "objective = cvx.Minimize(f)\n",
    "problem = cvx.Problem(objective)"
   ]
  },
  {
   "cell_type": "code",
   "execution_count": null,
   "metadata": {},
   "outputs": [],
   "source": []
  }
 ],
 "metadata": {
  "kernelspec": {
   "display_name": "Python 3",
   "language": "python",
   "name": "python3"
  },
  "language_info": {
   "codemirror_mode": {
    "name": "ipython",
    "version": 3
   },
   "file_extension": ".py",
   "mimetype": "text/x-python",
   "name": "python",
   "nbconvert_exporter": "python",
   "pygments_lexer": "ipython3",
   "version": "3.7.6"
  }
 },
 "nbformat": 4,
 "nbformat_minor": 4
}
